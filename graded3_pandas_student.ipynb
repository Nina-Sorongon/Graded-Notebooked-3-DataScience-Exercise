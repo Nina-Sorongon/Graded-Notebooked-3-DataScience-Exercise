{
  "cells": [
    {
      "cell_type": "markdown",
      "id": "174e376c",
      "metadata": {
        "id": "174e376c"
      },
      "source": [
        "# Preliminary Information"
      ]
    },
    {
      "cell_type": "markdown",
      "id": "0191a77e",
      "metadata": {},
      "source": [
        "### Name: SORONGON, Nina Rose Angelene S."
      ]
    },
    {
      "cell_type": "markdown",
      "id": "c5fb49d8",
      "metadata": {},
      "source": [
        "### Course: BS Information Systems"
      ]
    },
    {
      "cell_type": "markdown",
      "id": "cf679b60",
      "metadata": {},
      "source": [
        "### Latest Version: September 28, 2024"
      ]
    },
    {
      "cell_type": "markdown",
      "id": "33838ab2",
      "metadata": {},
      "source": [
        "# Zomato Exercise"
      ]
    },
    {
      "cell_type": "markdown",
      "id": "2d84fdf3",
      "metadata": {
        "id": "2d84fdf3"
      },
      "source": [
        "Zomato is a restaurant aggregator website. The platform provides information, menus and user-reviews of restaurants as well as food delivery options from partner restaurants in select cities. You have been provided 3 datasets:\n",
        "\n",
        "- zomato.csv contains restaurant information like average_cost_for_two, cuisines\n",
        "- location.csv contains location of the restaurants like address, city, locality & etc\n",
        "- ratings.csv contains aggregate rating for each restaurant\n",
        "\n",
        "The different files are connected using the `id` columns which can be found in the different files. The id column is a unique identifier to represent a restaurant. You can use this to **merge** the different files."
      ]
    },
    {
      "cell_type": "code",
      "execution_count": null,
      "id": "5337de5f",
      "metadata": {
        "id": "5337de5f"
      },
      "outputs": [
        {
          "ename": "",
          "evalue": "",
          "output_type": "error",
          "traceback": [
            "\u001b[1;31mRunning cells with 'Python 3.8.9' requires the ipykernel package.\n",
            "\u001b[1;31mRun the following command to install 'ipykernel' into the Python environment. \n",
            "\u001b[1;31mCommand: '/usr/bin/python3 -m pip install ipykernel -U --user --force-reinstall'"
          ]
        }
      ],
      "source": [
        "import pandas as pd\n",
        "import numpy as np"
      ]
    },
    {
      "cell_type": "markdown",
      "id": "77605fbc",
      "metadata": {
        "id": "77605fbc"
      },
      "source": [
        "1. Merge the zomato, location & ratings file into a signle dataframe and store it to the `merged_df` variable **(3pts)**"
      ]
    },
    {
      "cell_type": "code",
      "execution_count": null,
      "id": "ddbd0bb1",
      "metadata": {
        "id": "ddbd0bb1"
      },
      "outputs": [],
      "source": [
        "zomato_df = pd.read_csv('zomato.csv')\n",
        "location_df = pd.read_csv('location.csv')\n",
        "ratings_df = pd.read_csv('ratings.csv')\n",
        "\n",
        "merged_df = pd.merge(zomato_df, location_df, on='id')\n",
        "merged_df = pd.merge(merged_df, ratings_df, on='id')"
      ]
    },
    {
      "cell_type": "code",
      "execution_count": null,
      "id": "b2a86a44",
      "metadata": {
        "id": "b2a86a44"
      },
      "outputs": [],
      "source": [
        "assert (6830, 35)==merged_df.shape\n",
        "\n",
        "cols = ['id', 'address', 'city', 'city_id', 'country_id', 'latitude',\n",
        "       'locality', 'locality_verbose', 'longitude', 'zipcode',\n",
        "       'aggregate_rating', 'rating_color', 'rating_text', 'votes',\n",
        "       'average_cost_for_two', 'book_url', 'cuisines', 'currency', 'deeplink',\n",
        "       'events_url', 'featured_image', 'has_online_delivery',\n",
        "       'has_table_booking', 'include_bogo_offers', 'is_book_form_web_view',\n",
        "       'is_delivering_now', 'is_table_reservation_supported',\n",
        "       'is_zomato_book_res', 'menu_url', 'mezzo_provider', 'name',\n",
        "       'photos_url', 'price_range', 'thumb', 'url']\n",
        "\n",
        "assert sorted(merged_df.columns) == sorted(cols)"
      ]
    },
    {
      "cell_type": "markdown",
      "id": "02223abe",
      "metadata": {
        "id": "02223abe"
      },
      "source": [
        "2. Create a function that returns the average aggregate rating for each city. Expected returned value is a Series datatype which contains name of city as index and average aggregate rating as value. **(2pts)**"
      ]
    },
    {
      "cell_type": "code",
      "execution_count": null,
      "id": "bd7d8f34",
      "metadata": {
        "id": "bd7d8f34"
      },
      "outputs": [],
      "source": [
        "def exercise_2(merged_df):\n",
        "    avg_rating_by_city = merged_df.groupby('city')['aggregate_rating'].mean()\n",
        "    return avg_rating_by_city"
      ]
    },
    {
      "cell_type": "code",
      "execution_count": null,
      "id": "10e5b4c1",
      "metadata": {
        "id": "10e5b4c1"
      },
      "outputs": [],
      "source": [
        "res_series = exercise_2(merged_df)\n",
        "assert True == np.isclose(3.302075, res_series[res_series.index == 'Pasay City'],\n",
        "                          rtol=1e-05, atol=1e-08, equal_nan=False)[0]\n",
        "assert True == np.isclose(1.890741, res_series[res_series.index == 'Valenzuela City'],\n",
        "                          rtol=1e-05, atol=1e-08, equal_nan=False)[0]\n",
        "assert True == np.isclose(1.558333, res_series[res_series.index == 'Malabon City'],\n",
        "                          rtol=1e-05, atol=1e-08, equal_nan=False)[0]"
      ]
    },
    {
      "cell_type": "markdown",
      "id": "5db591ac",
      "metadata": {
        "id": "5db591ac"
      },
      "source": [
        "3. Using the apply function of pandas convert the rating_text to a numeric equivalent. You are to introduce a new column in merged_df called `rating_numeric` which is based on the value from rating_text: **(3pts)**\n",
        "\n",
        "Excellent = 5 <br>\n",
        "Very Good = 4 <br>\n",
        "Good = 3 <br>\n",
        "Average = 2 <br>\n",
        "Poor = 1 <br>\n",
        "Not rated = 0 <br>"
      ]
    },
    {
      "cell_type": "code",
      "execution_count": null,
      "id": "41293771",
      "metadata": {
        "id": "41293771"
      },
      "outputs": [],
      "source": [
        "def rating_to_numeric(rating):\n",
        "    if rating == 'Excellent':\n",
        "        return 5\n",
        "    elif rating == 'Very Good':\n",
        "        return 4\n",
        "    elif rating == 'Good':\n",
        "        return 3\n",
        "    elif rating == 'Average':\n",
        "        return 2\n",
        "    elif rating == 'Poor':\n",
        "        return 1\n",
        "    elif rating == 'Not rated':\n",
        "        return 0\n",
        "    else:\n",
        "        return None  \n",
        "\n",
        "merged_df['rating_numeric'] = merged_df['rating_text'].apply(rating_to_numeric)"
      ]
    },
    {
      "cell_type": "code",
      "execution_count": null,
      "id": "c62df922",
      "metadata": {
        "id": "c62df922"
      },
      "outputs": [],
      "source": [
        "assert 868 == merged_df[merged_df.rating_numeric == 0].shape[0]\n",
        "assert True == ('rating_numeric' in merged_df.columns)"
      ]
    },
    {
      "cell_type": "markdown",
      "id": "97ec4197",
      "metadata": {
        "id": "97ec4197"
      },
      "source": [
        "4. Create a function which filters the merged dataframe to only contain rows coming in from a specific city. Expected returned value is a dataframe **(2pts)**"
      ]
    },
    {
      "cell_type": "code",
      "execution_count": null,
      "id": "9773b18e",
      "metadata": {
        "id": "9773b18e"
      },
      "outputs": [],
      "source": [
        "def exercise_4(merged_df, city):\n",
        "    filtered_df = merged_df[merged_df['city'] == city].copy()\n",
        "    return filtered_df"
      ]
    },
    {
      "cell_type": "code",
      "execution_count": null,
      "id": "1ca29a81",
      "metadata": {
        "id": "1ca29a81"
      },
      "outputs": [],
      "source": [
        "\n",
        "assert 'Makati City' == exercise_4(merged_df, 'Makati City').city.unique()[0]\n",
        "assert (976, 36) == exercise_4(merged_df, 'Makati City').shape\n",
        "\n",
        "assert 'Mandaluyong City' == exercise_4(merged_df, 'Mandaluyong City').city.unique()[0]\n",
        "assert (443, 36) == exercise_4(merged_df, 'Mandaluyong City').shape\n",
        "\n",
        "assert (0, 36) == exercise_4(merged_df, 'Quezon  City').shape"
      ]
    },
    {
      "cell_type": "markdown",
      "id": "ca7bf3c1",
      "metadata": {
        "id": "ca7bf3c1"
      },
      "source": [
        "5. Create a function to filter the dataframe to only contain certain columns passed in the function. Expected returned value is a dataframe **(1pt)**"
      ]
    },
    {
      "cell_type": "code",
      "execution_count": null,
      "id": "59787577",
      "metadata": {
        "id": "59787577"
      },
      "outputs": [],
      "source": [
        "def exercise_5(merged_df, cols_to_filter):\n",
        "    filtered_df = merged_df[cols_to_filter].copy()\n",
        "    return filtered_df"
      ]
    },
    {
      "cell_type": "code",
      "execution_count": null,
      "id": "da27c054",
      "metadata": {
        "id": "da27c054"
      },
      "outputs": [],
      "source": [
        "cols = ['name', 'cuisines', 'city', 'aggregate_rating']\n",
        "assert sorted(cols) == sorted(exercise_5(merged_df, cols).columns)\n",
        "assert (6830, 4) == exercise_5(merged_df, cols).shape\n",
        "\n",
        "cols = ['average_cost_for_two', 'book_url', 'cuisines', 'currency', 'deeplink',\n",
        "       'events_url', 'featured_image', 'has_online_delivery',\n",
        "       'has_table_booking', 'include_bogo_offers', 'is_book_form_web_view']\n",
        "assert sorted(cols) == sorted(exercise_5(merged_df, cols).columns)\n",
        "assert (6830, 11) == exercise_5(merged_df, cols).shape\n"
      ]
    },
    {
      "cell_type": "markdown",
      "id": "d69c7e2e",
      "metadata": {
        "id": "d69c7e2e"
      },
      "source": [
        "6.  What is the most common restaurant name in the dataset? **(2pts)** Write down your answer and show code used to come up with the answer."
      ]
    },
    {
      "cell_type": "code",
      "execution_count": null,
      "id": "cf9cdab1",
      "metadata": {
        "id": "cf9cdab1"
      },
      "outputs": [],
      "source": [
        "most_common_name = merged_df['name'].value_counts().idxmax()\n",
        "count = merged_df['name'].value_counts().max()\n",
        "\n",
        "print(f\"Most Common Restaurant: {most_common_name}\")\n",
        "print(f\"Count: {count}\")"
      ]
    },
    {
      "cell_type": "markdown",
      "id": "7675b4b1",
      "metadata": {
        "id": "7675b4b1"
      },
      "source": [
        "7. Which restaurant has the most expensive average cost for two? **(2pts)** Write down your answer and show code used to come up with the answer."
      ]
    },
    {
      "cell_type": "code",
      "execution_count": null,
      "id": "b447b440",
      "metadata": {
        "id": "b447b440"
      },
      "outputs": [],
      "source": [
        "merged_df['average_cost_for_two'] = pd.to_numeric(merged_df['average_cost_for_two'], errors='coerce')\n",
        "\n",
        "merged_df = merged_df.dropna(subset=['average_cost_for_two'])\n",
        "\n",
        "max_cost = merged_df['average_cost_for_two'].max()\n",
        "\n",
        "most_expensive_restaurants = merged_df[merged_df['average_cost_for_two'] == max_cost]\n",
        "\n",
        "print(\"The restaurant(s) with the most expensive average cost for two:\")\n",
        "for index, row in most_expensive_restaurants.iterrows():\n",
        "    print(f\"Name: {row['name']}, Average Cost for Two: {row['average_cost_for_two']}\")"
      ]
    },
    {
      "cell_type": "markdown",
      "id": "af873fb7",
      "metadata": {
        "id": "af873fb7"
      },
      "source": [
        "8. How many restaurants do not have a zipcode? **(1pt)** Write down your answer and show code used to come up with the answer."
      ]
    },
    {
      "cell_type": "code",
      "execution_count": null,
      "id": "43f1234a",
      "metadata": {
        "id": "43f1234a"
      },
      "outputs": [],
      "source": [
        "num_of_no_zipcode = merged_df['zipcode'].isnull().sum()\n",
        "\n",
        "print(f\"Restaurants w/o Zip Code: {num_of_no_zipcode}\")"
      ]
    },
    {
      "cell_type": "markdown",
      "id": "9347ac03",
      "metadata": {
        "id": "9347ac03"
      },
      "source": [
        "9. How many restaurants in the dataset allow online delivery? **(1pt)** Write down your answer and show code used to come up with the answer."
      ]
    },
    {
      "cell_type": "code",
      "execution_count": null,
      "id": "24b62212",
      "metadata": {
        "id": "24b62212"
      },
      "outputs": [],
      "source": [
        "print(\"Unique values in 'has_online_delivery' column:\")\n",
        "print(merged_df['has_online_delivery'].unique())\n",
        "\n",
        "num_online_delivery = merged_df[merged_df['has_online_delivery'] == 1].shape[0]\n",
        "\n",
        "print(f\"\\nRestaurants  w/ Online Delivery: {num_online_delivery}\")"
      ]
    },
    {
      "cell_type": "markdown",
      "id": "7f2c7aa3",
      "metadata": {
        "id": "7f2c7aa3"
      },
      "source": [
        "10. Which locatlity has more expensive food? Poblacion or Salcedo Village? **(3pts)** Write down your answer and show code used to come up with the answer.\n"
      ]
    },
    {
      "cell_type": "code",
      "execution_count": null,
      "id": "8fb7ce16",
      "metadata": {
        "id": "8fb7ce16"
      },
      "outputs": [],
      "source": [
        "merged_df['average_cost_for_two'] = pd.to_numeric(merged_df['average_cost_for_two'], errors='coerce')\n",
        "\n",
        "merged_df = merged_df.dropna(subset=['average_cost_for_two', 'locality'])\n",
        "\n",
        "poblacion_df = merged_df[merged_df['locality'] == 'Poblacion']\n",
        "\n",
        "salcedo_df = merged_df[merged_df['locality'] == 'Salcedo Village']\n",
        "\n",
        "avg_cost_poblacion = poblacion_df['average_cost_for_two'].mean()\n",
        "avg_cost_salcedo = salcedo_df['average_cost_for_two'].mean()\n",
        "\n",
        "print(f\"Poblacion: {avg_cost_poblacion:.2f}\")\n",
        "print(f\"Salcedo Village: {avg_cost_salcedo:.2f}\")\n",
        "\n",
        "if avg_cost_poblacion > avg_cost_salcedo:\n",
        "    print(\"\\nPoblacion has more expensive food than Salcedo Village.\")\n",
        "elif avg_cost_poblacion < avg_cost_salcedo:\n",
        "    print(\"\\nSalcedo Village has more expensive food than Poblacion.\")\n",
        "else:\n",
        "    print(\"\\nBoth Poblacion and Salcedo Village have the same average cost for food.\")\n"
      ]
    },
    {
      "cell_type": "markdown",
      "id": "5d025cc4",
      "metadata": {},
      "source": [
        "# CODE EXPLANATIONS"
      ]
    },
    {
      "cell_type": "markdown",
      "id": "fedbf6bf",
      "metadata": {},
      "source": [
        "## Question 1"
      ]
    },
    {
      "cell_type": "markdown",
      "id": "eb1bea60",
      "metadata": {},
      "source": [
        "I first read three CSV files—zomato.csv, location.csv, and ratings.csv—into separate DataFrames using pd.read_csv(). Then, I merge zomato_df with location_df on the common column id, combining their data. Afterward, I merge this newly merged DataFrame with ratings_df, again on the id column, resulting in a final DataFrame, merged_df, which contains data from all three sources, matched based on the id field."
      ]
    },
    {
      "cell_type": "markdown",
      "id": "156f4730",
      "metadata": {},
      "source": [
        "## Question 2"
      ]
    },
    {
      "cell_type": "markdown",
      "id": "4e0ab5f4",
      "metadata": {},
      "source": [
        "I am calculating the average aggregate rating for each city from the merged_df DataFrame. The groupby('city') method groups the data by the 'city' column, and then for each city, I compute the mean of the 'aggregate_rating' column using .mean(). "
      ]
    },
    {
      "cell_type": "markdown",
      "id": "e15aedab",
      "metadata": {},
      "source": [
        "## Question 3"
      ]
    },
    {
      "cell_type": "markdown",
      "id": "0b02efd1",
      "metadata": {},
      "source": [
        "The function converts the rating_text values to corresponding numeric equivalents using conditional if-elif statements to assign numeric values. For unrecognized ratings, it returns None. Then, I use the apply() function to apply rating_to_numeric to each value in the rating_text column of merged_df. This creates a new column, rating_numeric, where the numeric equivalents of the ratings are stored."
      ]
    },
    {
      "cell_type": "markdown",
      "id": "f5c6d8ea",
      "metadata": {},
      "source": [
        "## Question 4"
      ]
    },
    {
      "cell_type": "markdown",
      "id": "7f4676af",
      "metadata": {},
      "source": [
        "I filter the merged_df DataFrame to include only the rows where the 'city' column matches the given city parameter. I use the condition merged_df['city'] == city to create a boolean mask and apply it to merged_df. "
      ]
    },
    {
      "cell_type": "markdown",
      "id": "1fd833cc",
      "metadata": {},
      "source": [
        "## Question 5"
      ]
    },
    {
      "cell_type": "markdown",
      "id": "93105c74",
      "metadata": {},
      "source": [
        "From the combined data frame, the function selects and returns a copy of the columns."
      ]
    },
    {
      "cell_type": "markdown",
      "id": "23dd0ca7",
      "metadata": {},
      "source": [
        "## Question 6"
      ]
    },
    {
      "cell_type": "markdown",
      "id": "49e4c5aa",
      "metadata": {},
      "source": [
        "First, I use merged_df['name'].value_counts() to count the occurrences of each restaurant name  in the dataset. The idxmax() function returns the name with the highest count, and I store it in most_common_name. Simultaneously, max() retrieves the highest count of occurrences, stored in count. I then print the most common restaurant name and how many times it appears in the dataset using formatted strings."
      ]
    },
    {
      "cell_type": "markdown",
      "id": "84a7d27d",
      "metadata": {},
      "source": [
        "## Question 7"
      ]
    },
    {
      "cell_type": "markdown",
      "id": "4dbceeba",
      "metadata": {},
      "source": [
        "I first convert the average_cost_for_two column to a numeric datatype using pd.to_numeric(). I then drop any rows with missing values. Afterward, I find the maximum value in the average_cost_for_two column with .max().\n",
        "\n",
        "I filter the DataFrame to find the restaurants with this maximum cost using merged_df[merged_df['average_cost_for_two'] == max_cost]. Finally, I print the name(s) of the restaurant(s) that match this highest cost. If there are multiple restaurants with the same maximum cost, they will all be printed."
      ]
    },
    {
      "cell_type": "markdown",
      "metadata": {},
      "source": [
        "## Question 8"
      ]
    },
    {
      "cell_type": "markdown",
      "id": "1014ed29",
      "metadata": {},
      "source": [
        "The expression merged_df['zipcode'].isnull() creates a boolean series where True indicates a missing value in the zipcode column. Then, I use .sum() to count the True values, which represents the number of rows where the zip code is missing. "
      ]
    },
    {
      "cell_type": "markdown",
      "id": "2dcc2ebc",
      "metadata": {},
      "source": [
        "## Question 9"
      ]
    },
    {
      "cell_type": "markdown",
      "id": "aea612d4",
      "metadata": {},
      "source": [
        "I calculate the number of restaurants that do offer online delivery by filtering the DataFrame for rows where has_online_delivery equals 1 (indicating availability) and then using .shape[0] to count these rows. "
      ]
    },
    {
      "cell_type": "markdown",
      "id": "5f807faa",
      "metadata": {},
      "source": [
        "## Question 10"
      ]
    },
    {
      "cell_type": "markdown",
      "id": "6602c96b",
      "metadata": {},
      "source": [
        "This does drops rows from merged_df that have missing values in the average_cost_for_two or locality columns using dropna(). I create two separate DataFrames: poblacion_df, which contains only the rows where locality is 'Poblacion', and salcedo_df, which contains rows for 'Salcedo Village'. I calculate the average cost for two people in each locality using the .mean() method on the average_cost_for_two column. These are then compared based on average costs and then prints a message indicating which locality has more expensive food, or if they have the same average cost."
      ]
    }
  ],
  "metadata": {
    "colab": {
      "provenance": []
    },
    "kernelspec": {
      "display_name": "Python 3",
      "language": "python",
      "name": "python3"
    },
    "language_info": {
      "codemirror_mode": {
        "name": "ipython",
        "version": 3
      },
      "file_extension": ".py",
      "mimetype": "text/x-python",
      "name": "python",
      "nbconvert_exporter": "python",
      "pygments_lexer": "ipython3",
      "version": "3.8.9"
    }
  },
  "nbformat": 4,
  "nbformat_minor": 5
}
